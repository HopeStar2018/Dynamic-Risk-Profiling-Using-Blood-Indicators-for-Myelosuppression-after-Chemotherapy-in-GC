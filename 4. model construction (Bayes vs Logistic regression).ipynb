{
 "cells": [
  {
   "cell_type": "code",
   "execution_count": 2,
   "metadata": {},
   "outputs": [],
   "source": [
    "import pandas as pd\n",
    "import numpy as np\n",
    "import matplotlib.pyplot as plt\n",
    "\n",
    "from matplotlib.gridspec import GridSpec\n",
    "from sklearn.calibration import CalibratedClassifierCV, CalibrationDisplay\n",
    "from sklearn.naive_bayes import BernoulliNB\n",
    "from sklearn.naive_bayes import GaussianNB\n",
    "from sklearn.naive_bayes import CategoricalNB\n",
    "from sklearn.naive_bayes import MultinomialNB\n",
    "from sklearn.naive_bayes import ComplementNB\n",
    "\n",
    "from sklearn.metrics import roc_curve\n",
    "from sklearn.metrics import auc\n",
    "\n",
    "from statsmodels.discrete.discrete_model import Logit\n",
    "from statsmodels.tools import add_constant\n",
    "\n",
    "# from imblearn.over_sampling import SMOTE\n",
    "# from collections import Counter"
   ]
  },
  {
   "cell_type": "markdown",
   "metadata": {},
   "source": [
    "# fixed-effect Bayes model"
   ]
  },
  {
   "cell_type": "code",
   "execution_count": 7,
   "metadata": {},
   "outputs": [],
   "source": [
    "data_smo = pd.read_csv(\"/Users/weiyuna/Desktop/工作/合作项目/医大一-胃癌/模型/code_202203/smote/smote_data.csv\")\n",
    "data_train_smo = data_smo[data_smo.target == \"train\"]\n",
    "data_train_smo.reset_index(inplace = True)"
   ]
  },
  {
   "cell_type": "code",
   "execution_count": 8,
   "metadata": {},
   "outputs": [],
   "source": [
    "data_test_smo = data_smo[data_smo.target == \"test\"]\n",
    "data_test_smo.reset_index(inplace = True)"
   ]
  },
  {
   "cell_type": "code",
   "execution_count": 9,
   "metadata": {},
   "outputs": [],
   "source": [
    "data_raw = pd.read_csv(\"/Users/weiyuna/Desktop/工作/合作项目/医大一-胃癌/模型/code_202203/output/data_valid.csv\")\n",
    "\n",
    "data_valid = data_raw\n",
    "i = 4\n",
    "data_valid = data_valid[data_valid.cycle <= i]\n",
    "\n",
    "data_test = data_valid[data_valid[\"visit_year\"] > 2018]\n",
    "data_test.reset_index(inplace = True)\n",
    "X_test = data_test[[x for x in data.columns if x not in [\"patient_sn\", \"visit_year\", \"cycle_num\", \"event\"]]]\n",
    "y_test = data_test[\"event\"]"
   ]
  },
  {
   "cell_type": "markdown",
   "metadata": {},
   "source": [
    "## prior model"
   ]
  },
  {
   "cell_type": "code",
   "execution_count": 10,
   "metadata": {},
   "outputs": [
    {
     "name": "stderr",
     "output_type": "stream",
     "text": [
      "/var/folders/09/ybrtr66d0nn9kwdkvqxs98n00000gn/T/ipykernel_96395/3223399617.py:7: SettingWithCopyWarning: \n",
      "A value is trying to be set on a copy of a slice from a DataFrame.\n",
      "Try using .loc[row_indexer,col_indexer] = value instead\n",
      "\n",
      "See the caveats in the documentation: https://pandas.pydata.org/pandas-docs/stable/user_guide/indexing.html#returning-a-view-versus-a-copy\n",
      "  data_train_smo[\"prior\"] = clf_prior_fit.predict_proba(data_train_smo[prior_feature_list])[:,1]\n",
      "/var/folders/09/ybrtr66d0nn9kwdkvqxs98n00000gn/T/ipykernel_96395/3223399617.py:8: SettingWithCopyWarning: \n",
      "A value is trying to be set on a copy of a slice from a DataFrame.\n",
      "Try using .loc[row_indexer,col_indexer] = value instead\n",
      "\n",
      "See the caveats in the documentation: https://pandas.pydata.org/pandas-docs/stable/user_guide/indexing.html#returning-a-view-versus-a-copy\n",
      "  data_test_smo[\"prior\"] = clf_prior_fit.predict_proba(data_test_smo[prior_feature_list])[:,1]\n"
     ]
    }
   ],
   "source": [
    "# train the bayes model with static features\n",
    "prior_feature_list = [\"gender\", \"tumor_stage_pN\", \"cycle\"]\n",
    "clf_prior = CategoricalNB()\n",
    "clf_prior_fit = clf_prior.fit(data_train_smo[prior_feature_list], data_train_smo[\"event\"])\n",
    "\n",
    "# output prior for next model\n",
    "data_train_smo[\"prior\"] = clf_prior_fit.predict_proba(data_train_smo[prior_feature_list])[:,1]\n",
    "data_test_smo[\"prior\"] = clf_prior_fit.predict_proba(data_test_smo[prior_feature_list])[:,1]\n"
   ]
  },
  {
   "cell_type": "markdown",
   "metadata": {},
   "source": [
    "## combined model in SMO-data"
   ]
  },
  {
   "cell_type": "code",
   "execution_count": 11,
   "metadata": {},
   "outputs": [],
   "source": [
    "quartile_list = [\"PLT_q\", \"Hb_q\", \"WBC_q\", \"Neut_q\", \"Lymph_q\"]\n",
    "\n",
    "clf_quartile = GaussianNB(priors = [0.5, 0.5])  \n",
    "clf_quartile_fit = clf_quartile.fit(data_train_smo[quartile_list], data_train_smo[\"event\"])"
   ]
  },
  {
   "cell_type": "code",
   "execution_count": 15,
   "metadata": {},
   "outputs": [],
   "source": [
    "def predict_by_model(df):\n",
    "    df[\"prior\"] = clf_prior_fit.predict_proba(df[prior_feature_list])[:,1]\n",
    "    df[\"prior_odds\"] = df[\"prior\"]/(1 - df[\"prior\"])\n",
    "\n",
    "    quartile_pre = clf_quartile_fit.predict_proba(df[quartile_list])[:,1]\n",
    "    df[\"quartile_odds\"] = quartile_pre/(1- quartile_pre)\n",
    "    df[\"posterior_odds\"] = df[\"quartile_odds\"]*df[\"prior_odds\"]\n",
    "    df[\"posterior\"] = df[\"posterior_odds\"]/(1+df[\"posterior_odds\"])  \n",
    "\n",
    "    return df"
   ]
  },
  {
   "cell_type": "code",
   "execution_count": 16,
   "metadata": {},
   "outputs": [
    {
     "name": "stdout",
     "output_type": "stream",
     "text": [
      "3870\n",
      "0.7927675286608042\n"
     ]
    },
    {
     "name": "stderr",
     "output_type": "stream",
     "text": [
      "/var/folders/09/ybrtr66d0nn9kwdkvqxs98n00000gn/T/ipykernel_96395/519203610.py:2: SettingWithCopyWarning: \n",
      "A value is trying to be set on a copy of a slice from a DataFrame.\n",
      "Try using .loc[row_indexer,col_indexer] = value instead\n",
      "\n",
      "See the caveats in the documentation: https://pandas.pydata.org/pandas-docs/stable/user_guide/indexing.html#returning-a-view-versus-a-copy\n",
      "  df[\"prior\"] = clf_prior_fit.predict_proba(df[prior_feature_list])[:,1]\n",
      "/var/folders/09/ybrtr66d0nn9kwdkvqxs98n00000gn/T/ipykernel_96395/519203610.py:3: SettingWithCopyWarning: \n",
      "A value is trying to be set on a copy of a slice from a DataFrame.\n",
      "Try using .loc[row_indexer,col_indexer] = value instead\n",
      "\n",
      "See the caveats in the documentation: https://pandas.pydata.org/pandas-docs/stable/user_guide/indexing.html#returning-a-view-versus-a-copy\n",
      "  df[\"prior_odds\"] = df[\"prior\"]/(1 - df[\"prior\"])\n",
      "/var/folders/09/ybrtr66d0nn9kwdkvqxs98n00000gn/T/ipykernel_96395/519203610.py:6: SettingWithCopyWarning: \n",
      "A value is trying to be set on a copy of a slice from a DataFrame.\n",
      "Try using .loc[row_indexer,col_indexer] = value instead\n",
      "\n",
      "See the caveats in the documentation: https://pandas.pydata.org/pandas-docs/stable/user_guide/indexing.html#returning-a-view-versus-a-copy\n",
      "  df[\"quartile_odds\"] = quartile_pre/(1- quartile_pre)\n",
      "/var/folders/09/ybrtr66d0nn9kwdkvqxs98n00000gn/T/ipykernel_96395/519203610.py:7: SettingWithCopyWarning: \n",
      "A value is trying to be set on a copy of a slice from a DataFrame.\n",
      "Try using .loc[row_indexer,col_indexer] = value instead\n",
      "\n",
      "See the caveats in the documentation: https://pandas.pydata.org/pandas-docs/stable/user_guide/indexing.html#returning-a-view-versus-a-copy\n",
      "  df[\"posterior_odds\"] = df[\"quartile_odds\"]*df[\"prior_odds\"]\n",
      "/var/folders/09/ybrtr66d0nn9kwdkvqxs98n00000gn/T/ipykernel_96395/519203610.py:8: SettingWithCopyWarning: \n",
      "A value is trying to be set on a copy of a slice from a DataFrame.\n",
      "Try using .loc[row_indexer,col_indexer] = value instead\n",
      "\n",
      "See the caveats in the documentation: https://pandas.pydata.org/pandas-docs/stable/user_guide/indexing.html#returning-a-view-versus-a-copy\n",
      "  df[\"posterior\"] = df[\"posterior_odds\"]/(1+df[\"posterior_odds\"])\n"
     ]
    }
   ],
   "source": [
    "data_train_smo  = predict_by_model(data_train_smo)\n",
    "\n",
    "fpr, tpr, thresholds = roc_curve(data_train_smo[\"event\"], data_train_smo[\"posterior\"])\n",
    "print(len(data_train_smo[\"event\"]))\n",
    "print(auc(fpr, tpr))\n",
    "\n",
    "# data_train_smo.to_csv(\"./output/smote_model_smote_trainset_with_prediction.csv\", index=False)"
   ]
  },
  {
   "cell_type": "code",
   "execution_count": 17,
   "metadata": {},
   "outputs": [
    {
     "name": "stdout",
     "output_type": "stream",
     "text": [
      "790\n",
      "0.8882006088767824\n"
     ]
    },
    {
     "name": "stderr",
     "output_type": "stream",
     "text": [
      "/var/folders/09/ybrtr66d0nn9kwdkvqxs98n00000gn/T/ipykernel_96395/519203610.py:2: SettingWithCopyWarning: \n",
      "A value is trying to be set on a copy of a slice from a DataFrame.\n",
      "Try using .loc[row_indexer,col_indexer] = value instead\n",
      "\n",
      "See the caveats in the documentation: https://pandas.pydata.org/pandas-docs/stable/user_guide/indexing.html#returning-a-view-versus-a-copy\n",
      "  df[\"prior\"] = clf_prior_fit.predict_proba(df[prior_feature_list])[:,1]\n",
      "/var/folders/09/ybrtr66d0nn9kwdkvqxs98n00000gn/T/ipykernel_96395/519203610.py:3: SettingWithCopyWarning: \n",
      "A value is trying to be set on a copy of a slice from a DataFrame.\n",
      "Try using .loc[row_indexer,col_indexer] = value instead\n",
      "\n",
      "See the caveats in the documentation: https://pandas.pydata.org/pandas-docs/stable/user_guide/indexing.html#returning-a-view-versus-a-copy\n",
      "  df[\"prior_odds\"] = df[\"prior\"]/(1 - df[\"prior\"])\n",
      "/var/folders/09/ybrtr66d0nn9kwdkvqxs98n00000gn/T/ipykernel_96395/519203610.py:6: SettingWithCopyWarning: \n",
      "A value is trying to be set on a copy of a slice from a DataFrame.\n",
      "Try using .loc[row_indexer,col_indexer] = value instead\n",
      "\n",
      "See the caveats in the documentation: https://pandas.pydata.org/pandas-docs/stable/user_guide/indexing.html#returning-a-view-versus-a-copy\n",
      "  df[\"quartile_odds\"] = quartile_pre/(1- quartile_pre)\n",
      "/var/folders/09/ybrtr66d0nn9kwdkvqxs98n00000gn/T/ipykernel_96395/519203610.py:7: SettingWithCopyWarning: \n",
      "A value is trying to be set on a copy of a slice from a DataFrame.\n",
      "Try using .loc[row_indexer,col_indexer] = value instead\n",
      "\n",
      "See the caveats in the documentation: https://pandas.pydata.org/pandas-docs/stable/user_guide/indexing.html#returning-a-view-versus-a-copy\n",
      "  df[\"posterior_odds\"] = df[\"quartile_odds\"]*df[\"prior_odds\"]\n",
      "/var/folders/09/ybrtr66d0nn9kwdkvqxs98n00000gn/T/ipykernel_96395/519203610.py:8: SettingWithCopyWarning: \n",
      "A value is trying to be set on a copy of a slice from a DataFrame.\n",
      "Try using .loc[row_indexer,col_indexer] = value instead\n",
      "\n",
      "See the caveats in the documentation: https://pandas.pydata.org/pandas-docs/stable/user_guide/indexing.html#returning-a-view-versus-a-copy\n",
      "  df[\"posterior\"] = df[\"posterior_odds\"]/(1+df[\"posterior_odds\"])\n"
     ]
    }
   ],
   "source": [
    "data_test_smo  = predict_by_model(data_test_smo)\n",
    "\n",
    "print(len(data_test_smo[\"event\"]))\n",
    "fpr, tpr, thresholds = roc_curve(data_test_smo[\"event\"], data_test_smo[\"posterior\"])\n",
    "print(auc(fpr, tpr))\n",
    "\n",
    "# data_test_smo.to_csv(\"./output/smote_model_smote_testset_with_prediction.csv\", index=False)"
   ]
  },
  {
   "cell_type": "markdown",
   "metadata": {},
   "source": [
    "## prior model（probability calibrated by isotonic） "
   ]
  },
  {
   "cell_type": "code",
   "execution_count": 18,
   "metadata": {},
   "outputs": [
    {
     "name": "stderr",
     "output_type": "stream",
     "text": [
      "/var/folders/09/ybrtr66d0nn9kwdkvqxs98n00000gn/T/ipykernel_96395/855982914.py:13: SettingWithCopyWarning: \n",
      "A value is trying to be set on a copy of a slice from a DataFrame.\n",
      "Try using .loc[row_indexer,col_indexer] = value instead\n",
      "\n",
      "See the caveats in the documentation: https://pandas.pydata.org/pandas-docs/stable/user_guide/indexing.html#returning-a-view-versus-a-copy\n",
      "  data_train_smo[\"prior\"] = clf_prior_isotonic_fit.predict_proba(data_train_smo[prior_feature_list])[:,1]\n",
      "/var/folders/09/ybrtr66d0nn9kwdkvqxs98n00000gn/T/ipykernel_96395/855982914.py:14: SettingWithCopyWarning: \n",
      "A value is trying to be set on a copy of a slice from a DataFrame.\n",
      "Try using .loc[row_indexer,col_indexer] = value instead\n",
      "\n",
      "See the caveats in the documentation: https://pandas.pydata.org/pandas-docs/stable/user_guide/indexing.html#returning-a-view-versus-a-copy\n",
      "  data_test_smo[\"prior\"] = clf_prior_isotonic_fit.predict_proba(data_test_smo[prior_feature_list])[:,1]\n"
     ]
    }
   ],
   "source": [
    "# train the bayes model with static features\n",
    "prior_feature_list = [\"gender\", \"tumor_stage_pN\", \"cycle\"]\n",
    "clf_prior = CategoricalNB()\n",
    "# clf_prior = MultinomialNB()\n",
    "# clf_prior = GaussianNB()\n",
    "# clf_prior = ComplementNB()\n",
    "\n",
    "# probability calibrated（method=\"isotonic\")\n",
    "clf_prior_isotonic = CalibratedClassifierCV(clf_prior, cv=2, method=\"isotonic\")\n",
    "clf_prior_isotonic_fit = clf_prior_isotonic.fit(data_train_smo[prior_feature_list], data_train_smo[\"event\"])\n",
    "\n",
    "# output prior \n",
    "data_train_smo[\"prior\"] = clf_prior_isotonic_fit.predict_proba(data_train_smo[prior_feature_list])[:,1]\n",
    "data_test_smo[\"prior\"] = clf_prior_isotonic_fit.predict_proba(data_test_smo[prior_feature_list])[:,1]"
   ]
  },
  {
   "cell_type": "markdown",
   "metadata": {},
   "source": [
    "## prior model（probability calibrated by isotonic）in SMO-data"
   ]
  },
  {
   "cell_type": "code",
   "execution_count": 19,
   "metadata": {},
   "outputs": [],
   "source": [
    "quartile_list = [\"PLT_q\", \"Hb_q\", \"WBC_q\", \"Neut_q\", \"Lymph_q\"]\n",
    "\n",
    "# probability calibrated（method=\"isotonic\")\n",
    "clf_quartile = GaussianNB(priors = [0.5, 0.5])  \n",
    "clf_quartile_isotonic = CalibratedClassifierCV(clf_quartile, cv=2, method=\"isotonic\")\n",
    "clf_quartile_isotonic_fit = clf_quartile_isotonic.fit(data_train_smo[quartile_list], data_train_smo[\"event\"])"
   ]
  },
  {
   "cell_type": "code",
   "execution_count": 20,
   "metadata": {},
   "outputs": [],
   "source": [
    "def predict_by_model_cal_iso(df):\n",
    "    df[\"prior\"] = clf_prior_isotonic_fit.predict_proba(df[prior_feature_list])[:,1]\n",
    "    df[\"prior_odds\"] = df[\"prior\"]/(1 - df[\"prior\"])\n",
    "\n",
    "    quartile_pre = clf_quartile_isotonic_fit.predict_proba(df[quartile_list])[:,1]\n",
    "    df[\"quartile_odds\"] = quartile_pre/(1- quartile_pre)\n",
    "    df[\"posterior_odds\"] = df[\"quartile_odds\"]*df[\"prior_odds\"]\n",
    "    df[\"posterior\"] = df[\"posterior_odds\"]/(1+df[\"posterior_odds\"])  \n",
    "\n",
    "    return df"
   ]
  },
  {
   "cell_type": "code",
   "execution_count": 21,
   "metadata": {},
   "outputs": [
    {
     "name": "stdout",
     "output_type": "stream",
     "text": [
      "3870\n",
      "0.8269149156367472\n"
     ]
    },
    {
     "name": "stderr",
     "output_type": "stream",
     "text": [
      "/var/folders/09/ybrtr66d0nn9kwdkvqxs98n00000gn/T/ipykernel_96395/324101349.py:2: SettingWithCopyWarning: \n",
      "A value is trying to be set on a copy of a slice from a DataFrame.\n",
      "Try using .loc[row_indexer,col_indexer] = value instead\n",
      "\n",
      "See the caveats in the documentation: https://pandas.pydata.org/pandas-docs/stable/user_guide/indexing.html#returning-a-view-versus-a-copy\n",
      "  df[\"prior\"] = clf_prior_isotonic_fit.predict_proba(df[prior_feature_list])[:,1]\n",
      "/var/folders/09/ybrtr66d0nn9kwdkvqxs98n00000gn/T/ipykernel_96395/324101349.py:3: SettingWithCopyWarning: \n",
      "A value is trying to be set on a copy of a slice from a DataFrame.\n",
      "Try using .loc[row_indexer,col_indexer] = value instead\n",
      "\n",
      "See the caveats in the documentation: https://pandas.pydata.org/pandas-docs/stable/user_guide/indexing.html#returning-a-view-versus-a-copy\n",
      "  df[\"prior_odds\"] = df[\"prior\"]/(1 - df[\"prior\"])\n",
      "/var/folders/09/ybrtr66d0nn9kwdkvqxs98n00000gn/T/ipykernel_96395/324101349.py:7: SettingWithCopyWarning: \n",
      "A value is trying to be set on a copy of a slice from a DataFrame.\n",
      "Try using .loc[row_indexer,col_indexer] = value instead\n",
      "\n",
      "See the caveats in the documentation: https://pandas.pydata.org/pandas-docs/stable/user_guide/indexing.html#returning-a-view-versus-a-copy\n",
      "  df[\"quartile_odds\"] = quartile_pre/(1- quartile_pre)\n",
      "/var/folders/09/ybrtr66d0nn9kwdkvqxs98n00000gn/T/ipykernel_96395/324101349.py:13: SettingWithCopyWarning: \n",
      "A value is trying to be set on a copy of a slice from a DataFrame.\n",
      "Try using .loc[row_indexer,col_indexer] = value instead\n",
      "\n",
      "See the caveats in the documentation: https://pandas.pydata.org/pandas-docs/stable/user_guide/indexing.html#returning-a-view-versus-a-copy\n",
      "  df[\"posterior_odds\"] = df[\"quartile_odds\"]*df[\"prior_odds\"]\n",
      "/var/folders/09/ybrtr66d0nn9kwdkvqxs98n00000gn/T/ipykernel_96395/324101349.py:16: SettingWithCopyWarning: \n",
      "A value is trying to be set on a copy of a slice from a DataFrame.\n",
      "Try using .loc[row_indexer,col_indexer] = value instead\n",
      "\n",
      "See the caveats in the documentation: https://pandas.pydata.org/pandas-docs/stable/user_guide/indexing.html#returning-a-view-versus-a-copy\n",
      "  df[\"posterior\"] = df[\"posterior_odds\"]/(1+df[\"posterior_odds\"])\n"
     ]
    }
   ],
   "source": [
    "data_train_smo  = predict_by_model_cal_iso(data_train_smo)\n",
    "\n",
    "fpr, tpr, thresholds = roc_curve(data_train_smo[\"event\"], data_train_smo[\"posterior\"])\n",
    "print(len(data_train_smo[\"event\"]))\n",
    "print(auc(fpr, tpr))\n",
    "\n",
    "# data_train_smo.to_csv(\"./output/smote_model_smote_trainset_with_prediction_callibration_isotonic.csv\", index=False)"
   ]
  },
  {
   "cell_type": "code",
   "execution_count": 22,
   "metadata": {},
   "outputs": [
    {
     "name": "stdout",
     "output_type": "stream",
     "text": [
      "790\n",
      "0.8739464829354271\n"
     ]
    },
    {
     "name": "stderr",
     "output_type": "stream",
     "text": [
      "/var/folders/09/ybrtr66d0nn9kwdkvqxs98n00000gn/T/ipykernel_96395/324101349.py:2: SettingWithCopyWarning: \n",
      "A value is trying to be set on a copy of a slice from a DataFrame.\n",
      "Try using .loc[row_indexer,col_indexer] = value instead\n",
      "\n",
      "See the caveats in the documentation: https://pandas.pydata.org/pandas-docs/stable/user_guide/indexing.html#returning-a-view-versus-a-copy\n",
      "  df[\"prior\"] = clf_prior_isotonic_fit.predict_proba(df[prior_feature_list])[:,1]\n",
      "/var/folders/09/ybrtr66d0nn9kwdkvqxs98n00000gn/T/ipykernel_96395/324101349.py:3: SettingWithCopyWarning: \n",
      "A value is trying to be set on a copy of a slice from a DataFrame.\n",
      "Try using .loc[row_indexer,col_indexer] = value instead\n",
      "\n",
      "See the caveats in the documentation: https://pandas.pydata.org/pandas-docs/stable/user_guide/indexing.html#returning-a-view-versus-a-copy\n",
      "  df[\"prior_odds\"] = df[\"prior\"]/(1 - df[\"prior\"])\n",
      "/var/folders/09/ybrtr66d0nn9kwdkvqxs98n00000gn/T/ipykernel_96395/324101349.py:7: SettingWithCopyWarning: \n",
      "A value is trying to be set on a copy of a slice from a DataFrame.\n",
      "Try using .loc[row_indexer,col_indexer] = value instead\n",
      "\n",
      "See the caveats in the documentation: https://pandas.pydata.org/pandas-docs/stable/user_guide/indexing.html#returning-a-view-versus-a-copy\n",
      "  df[\"quartile_odds\"] = quartile_pre/(1- quartile_pre)\n",
      "/var/folders/09/ybrtr66d0nn9kwdkvqxs98n00000gn/T/ipykernel_96395/324101349.py:13: SettingWithCopyWarning: \n",
      "A value is trying to be set on a copy of a slice from a DataFrame.\n",
      "Try using .loc[row_indexer,col_indexer] = value instead\n",
      "\n",
      "See the caveats in the documentation: https://pandas.pydata.org/pandas-docs/stable/user_guide/indexing.html#returning-a-view-versus-a-copy\n",
      "  df[\"posterior_odds\"] = df[\"quartile_odds\"]*df[\"prior_odds\"]\n",
      "/var/folders/09/ybrtr66d0nn9kwdkvqxs98n00000gn/T/ipykernel_96395/324101349.py:16: SettingWithCopyWarning: \n",
      "A value is trying to be set on a copy of a slice from a DataFrame.\n",
      "Try using .loc[row_indexer,col_indexer] = value instead\n",
      "\n",
      "See the caveats in the documentation: https://pandas.pydata.org/pandas-docs/stable/user_guide/indexing.html#returning-a-view-versus-a-copy\n",
      "  df[\"posterior\"] = df[\"posterior_odds\"]/(1+df[\"posterior_odds\"])\n"
     ]
    }
   ],
   "source": [
    "data_test_smo  = predict_by_model_cal_iso(data_test_smo)\n",
    "\n",
    "print(len(data_test_smo[\"event\"]))\n",
    "fpr, tpr, thresholds = roc_curve(data_test_smo[\"event\"], data_test_smo[\"posterior\"])\n",
    "print(auc(fpr, tpr))\n",
    "\n",
    "# data_test_smo.to_csv(\"./output/smote_model_smote_testset_with_prediction_callibration_isotonic.csv\", index=False)"
   ]
  },
  {
   "cell_type": "markdown",
   "metadata": {},
   "source": [
    "# model performance for selected features v.s. all features"
   ]
  },
  {
   "cell_type": "code",
   "execution_count": 23,
   "metadata": {},
   "outputs": [],
   "source": [
    "def calc_auc(y_true, y_pred):\n",
    "    fpr, tpr, thresholds = roc_curve(y_true, y_pred)\n",
    "    return auc(fpr, tpr)"
   ]
  },
  {
   "cell_type": "code",
   "execution_count": 24,
   "metadata": {},
   "outputs": [],
   "source": [
    "quartile_list = [\"PLT_q\", \"Hb_q\", \"WBC_q\", \"Neut_q\", \"Lymph_q\"]\n",
    "\n",
    "auc_result_list = list()\n",
    "\n",
    "for length in [4, 8]:\n",
    "    data_train_smo_sub_length = data_train_smo[data_train_smo['cycle'] <= length]\n",
    "    data_test_smo_sub_length = data_test_smo[data_test_smo['cycle'] <= length]\n",
    "    \n",
    "   \n",
    "    df = data_test_smo_sub_length.copy()\n",
    "    df['posterior'] = df['prior']\n",
    "    # df.to_csv(f\"./output/isotonic/testset_static_bayes_cycle_{length}_prediction_result.csv\", index=False)\n",
    "    auc_result_list.append({\n",
    "        \"model_name\": \"static_factors\", \n",
    "        \"followup_length\": length,\n",
    "        \"auc\": calc_auc(data_test_smo_sub_length['event'], data_test_smo_sub_length['prior'])\n",
    "    })\n",
    "\n",
    "    for dynamic_feature in quartile_list:\n",
    "        clf_quartile_each_feature = GaussianNB(priors = [0.5, 0.5])\n",
    "        clf_quartile_each_feature_isotonic = CalibratedClassifierCV(clf_quartile_each_feature, cv=2, method=\"isotonic\")\n",
    "        clf_quartile_each_feature_isotonic_fit = clf_quartile_each_feature_isotonic.fit(data_train_smo_sub_length[[dynamic_feature]], data_train_smo_sub_length[\"event\"])\n",
    "        \n",
    "        df = data_test_smo_sub_length.copy()\n",
    "        df[\"posterior\"] = clf_quartile_each_feature_isotonic_fit.predict_proba(df[[dynamic_feature]])[:,1]\n",
    "        \n",
    "        # df.to_csv(f\"./output/isotonic/testset_{dynamic_feature}_cycle_{length}_model_prediction_result.csv\", index=False)\n",
    "        auc_result_list.append({\n",
    "            \"model_name\": dynamic_feature, \n",
    "            \"followup_length\": length,\n",
    "            \"auc\": calc_auc(df['event'], df['posterior'])\n",
    "        })\n",
    "\n",
    "    # data_test_smo_sub_length.to_csv(f\"./output/isotonic/testset_dynamic_plus_static_bayes_cycle_{length}_prediction_result.csv\", index=False)\n",
    "    auc_result_list.append({\n",
    "        \"model_name\": \"static+dynamic\", \n",
    "        \"followup_length\": length,\n",
    "        \"auc\": calc_auc(data_test_smo_sub_length['event'], data_test_smo_sub_length['posterior'])\n",
    "    })\n",
    "\n",
    "# pd.DataFrame(auc_result_list).to_csv(\"./output/isotonic/auc_for_different_model.csv\", index = False)"
   ]
  },
  {
   "cell_type": "code",
   "execution_count": 25,
   "metadata": {},
   "outputs": [
    {
     "data": {
      "text/plain": [
       "[{'model_name': 'static_factors',\n",
       "  'followup_length': 4,\n",
       "  'auc': 0.7309407422186752},\n",
       " {'model_name': 'PLT_q', 'followup_length': 4, 'auc': 0.6956903431763768},\n",
       " {'model_name': 'Hb_q', 'followup_length': 4, 'auc': 0.6794293695131683},\n",
       " {'model_name': 'WBC_q', 'followup_length': 4, 'auc': 0.8000349162011173},\n",
       " {'model_name': 'Neut_q', 'followup_length': 4, 'auc': 0.829938148443735},\n",
       " {'model_name': 'Lymph_q', 'followup_length': 4, 'auc': 0.6897595770151637},\n",
       " {'model_name': 'static+dynamic',\n",
       "  'followup_length': 4,\n",
       "  'auc': 0.878396847565842},\n",
       " {'model_name': 'static_factors',\n",
       "  'followup_length': 8,\n",
       "  'auc': 0.7544015382150295},\n",
       " {'model_name': 'PLT_q', 'followup_length': 8, 'auc': 0.6486107995513539},\n",
       " {'model_name': 'Hb_q', 'followup_length': 8, 'auc': 0.6849126742509213},\n",
       " {'model_name': 'WBC_q', 'followup_length': 8, 'auc': 0.7869091491748119},\n",
       " {'model_name': 'Neut_q', 'followup_length': 8, 'auc': 0.8026181701650377},\n",
       " {'model_name': 'Lymph_q', 'followup_length': 8, 'auc': 0.6823810286813011},\n",
       " {'model_name': 'static+dynamic',\n",
       "  'followup_length': 8,\n",
       "  'auc': 0.8739464829354271}]"
      ]
     },
     "execution_count": 25,
     "metadata": {},
     "output_type": "execute_result"
    }
   ],
   "source": [
    "auc_result_list"
   ]
  },
  {
   "cell_type": "markdown",
   "metadata": {},
   "source": [
    "# model performance on raw data"
   ]
  },
  {
   "cell_type": "code",
   "execution_count": 27,
   "metadata": {},
   "outputs": [],
   "source": [
    "data_raw = pd.read_csv(\"/Users/weiyuna/Desktop/工作/合作项目/医大一-胃癌/模型/code_202203/output/data_valid.csv\")\n",
    "\n",
    "data_valid = data_raw\n",
    "i = 4 # 8\n",
    "data_valid = data_valid[data_valid.cycle <= i]\n",
    "\n",
    "data_train = data_valid[data_valid[\"visit_year\"] <= 2018]\n",
    "X_train = data_train[[x for x in data.columns if x not in [\"patient_sn\", \"visit_year\", \"cycle_num\", \"event\"]]]\n",
    "y_train = data_train[\"event\"]\n",
    "\n",
    "data_test = data_valid[data_valid[\"visit_year\"] > 2018]\n",
    "data_test.reset_index(inplace = True)\n",
    "X_test = data_test[[x for x in data.columns if x not in [\"patient_sn\", \"visit_year\", \"cycle_num\", \"event\"]]]\n",
    "y_test = data_test[\"event\"]"
   ]
  },
  {
   "cell_type": "code",
   "execution_count": 30,
   "metadata": {},
   "outputs": [
    {
     "name": "stdout",
     "output_type": "stream",
     "text": [
      "0.7735119047619047\n"
     ]
    },
    {
     "name": "stderr",
     "output_type": "stream",
     "text": [
      "/var/folders/09/ybrtr66d0nn9kwdkvqxs98n00000gn/T/ipykernel_96395/324101349.py:2: SettingWithCopyWarning: \n",
      "A value is trying to be set on a copy of a slice from a DataFrame.\n",
      "Try using .loc[row_indexer,col_indexer] = value instead\n",
      "\n",
      "See the caveats in the documentation: https://pandas.pydata.org/pandas-docs/stable/user_guide/indexing.html#returning-a-view-versus-a-copy\n",
      "  df[\"prior\"] = clf_prior_isotonic_fit.predict_proba(df[prior_feature_list])[:,1]\n",
      "/var/folders/09/ybrtr66d0nn9kwdkvqxs98n00000gn/T/ipykernel_96395/324101349.py:3: SettingWithCopyWarning: \n",
      "A value is trying to be set on a copy of a slice from a DataFrame.\n",
      "Try using .loc[row_indexer,col_indexer] = value instead\n",
      "\n",
      "See the caveats in the documentation: https://pandas.pydata.org/pandas-docs/stable/user_guide/indexing.html#returning-a-view-versus-a-copy\n",
      "  df[\"prior_odds\"] = df[\"prior\"]/(1 - df[\"prior\"])\n",
      "/var/folders/09/ybrtr66d0nn9kwdkvqxs98n00000gn/T/ipykernel_96395/324101349.py:7: SettingWithCopyWarning: \n",
      "A value is trying to be set on a copy of a slice from a DataFrame.\n",
      "Try using .loc[row_indexer,col_indexer] = value instead\n",
      "\n",
      "See the caveats in the documentation: https://pandas.pydata.org/pandas-docs/stable/user_guide/indexing.html#returning-a-view-versus-a-copy\n",
      "  df[\"quartile_odds\"] = quartile_pre/(1- quartile_pre)\n",
      "/var/folders/09/ybrtr66d0nn9kwdkvqxs98n00000gn/T/ipykernel_96395/324101349.py:13: SettingWithCopyWarning: \n",
      "A value is trying to be set on a copy of a slice from a DataFrame.\n",
      "Try using .loc[row_indexer,col_indexer] = value instead\n",
      "\n",
      "See the caveats in the documentation: https://pandas.pydata.org/pandas-docs/stable/user_guide/indexing.html#returning-a-view-versus-a-copy\n",
      "  df[\"posterior_odds\"] = df[\"quartile_odds\"]*df[\"prior_odds\"]\n",
      "/var/folders/09/ybrtr66d0nn9kwdkvqxs98n00000gn/T/ipykernel_96395/324101349.py:16: SettingWithCopyWarning: \n",
      "A value is trying to be set on a copy of a slice from a DataFrame.\n",
      "Try using .loc[row_indexer,col_indexer] = value instead\n",
      "\n",
      "See the caveats in the documentation: https://pandas.pydata.org/pandas-docs/stable/user_guide/indexing.html#returning-a-view-versus-a-copy\n",
      "  df[\"posterior\"] = df[\"posterior_odds\"]/(1+df[\"posterior_odds\"])\n",
      "/var/folders/09/ybrtr66d0nn9kwdkvqxs98n00000gn/T/ipykernel_96395/324101349.py:2: SettingWithCopyWarning: \n",
      "A value is trying to be set on a copy of a slice from a DataFrame.\n",
      "Try using .loc[row_indexer,col_indexer] = value instead\n",
      "\n",
      "See the caveats in the documentation: https://pandas.pydata.org/pandas-docs/stable/user_guide/indexing.html#returning-a-view-versus-a-copy\n",
      "  df[\"prior\"] = clf_prior_isotonic_fit.predict_proba(df[prior_feature_list])[:,1]\n",
      "/var/folders/09/ybrtr66d0nn9kwdkvqxs98n00000gn/T/ipykernel_96395/324101349.py:3: SettingWithCopyWarning: \n",
      "A value is trying to be set on a copy of a slice from a DataFrame.\n",
      "Try using .loc[row_indexer,col_indexer] = value instead\n",
      "\n",
      "See the caveats in the documentation: https://pandas.pydata.org/pandas-docs/stable/user_guide/indexing.html#returning-a-view-versus-a-copy\n",
      "  df[\"prior_odds\"] = df[\"prior\"]/(1 - df[\"prior\"])\n",
      "/var/folders/09/ybrtr66d0nn9kwdkvqxs98n00000gn/T/ipykernel_96395/324101349.py:7: SettingWithCopyWarning: \n",
      "A value is trying to be set on a copy of a slice from a DataFrame.\n",
      "Try using .loc[row_indexer,col_indexer] = value instead\n",
      "\n",
      "See the caveats in the documentation: https://pandas.pydata.org/pandas-docs/stable/user_guide/indexing.html#returning-a-view-versus-a-copy\n",
      "  df[\"quartile_odds\"] = quartile_pre/(1- quartile_pre)\n",
      "/var/folders/09/ybrtr66d0nn9kwdkvqxs98n00000gn/T/ipykernel_96395/324101349.py:13: SettingWithCopyWarning: \n",
      "A value is trying to be set on a copy of a slice from a DataFrame.\n",
      "Try using .loc[row_indexer,col_indexer] = value instead\n",
      "\n",
      "See the caveats in the documentation: https://pandas.pydata.org/pandas-docs/stable/user_guide/indexing.html#returning-a-view-versus-a-copy\n",
      "  df[\"posterior_odds\"] = df[\"quartile_odds\"]*df[\"prior_odds\"]\n",
      "/var/folders/09/ybrtr66d0nn9kwdkvqxs98n00000gn/T/ipykernel_96395/324101349.py:16: SettingWithCopyWarning: \n",
      "A value is trying to be set on a copy of a slice from a DataFrame.\n",
      "Try using .loc[row_indexer,col_indexer] = value instead\n",
      "\n",
      "See the caveats in the documentation: https://pandas.pydata.org/pandas-docs/stable/user_guide/indexing.html#returning-a-view-versus-a-copy\n",
      "  df[\"posterior\"] = df[\"posterior_odds\"]/(1+df[\"posterior_odds\"])\n"
     ]
    }
   ],
   "source": [
    "data_train  = predict_by_model_cal_iso(data_train) \n",
    "# data_train.to_csv(\"./output/smote_model_on_raw_trainset_with_prediction_isotonic.csv\", index=False)\n",
    "\n",
    "data_test_sub = data_test[data_test[\"cycle\"]<=4] \n",
    "data_test  = predict_by_model_cal_iso(data_test)\n",
    "# data_test.to_csv(\"./output/smote_model_on_raw_testset_with_prediction_isotonic.csv\", index=False)\n",
    "\n",
    "fpr, tpr, thresholds = roc_curve(data_test_sub[\"event\"], data_test_sub[\"posterior\"])\n",
    "print(auc(fpr, tpr))"
   ]
  },
  {
   "cell_type": "markdown",
   "metadata": {},
   "source": [
    "# logistic regression of same variables with Bayes (baseline)—SMO data"
   ]
  },
  {
   "cell_type": "code",
   "execution_count": 34,
   "metadata": {},
   "outputs": [],
   "source": [
    "order_dynamic_feature_list= [\"PLT\", \"Hb\", \"WBC\", \"Neut\", \"Lymph\"] \n",
    "prior_feature_list = [\"gender\", \"tumor_stage_pN\", \"cycle\"]"
   ]
  },
  {
   "cell_type": "code",
   "execution_count": 38,
   "metadata": {},
   "outputs": [
    {
     "name": "stdout",
     "output_type": "stream",
     "text": [
      "Optimization terminated successfully    (Exit mode 0)\n",
      "            Current function value: 0.5467086811270958\n",
      "            Iterations: 41\n",
      "            Function evaluations: 42\n",
      "            Gradient evaluations: 41\n",
      "                           Logit Regression Results                           \n",
      "==============================================================================\n",
      "Dep. Variable:                  event   No. Observations:                 3870\n",
      "Model:                          Logit   Df Residuals:                     3861\n",
      "Method:                           MLE   Df Model:                            8\n",
      "Date:                Fri, 17 Jun 2022   Pseudo R-squ.:                  0.2113\n",
      "Time:                        18:29:32   Log-Likelihood:                -2115.8\n",
      "converged:                       True   LL-Null:                       -2682.5\n",
      "Covariance Type:            nonrobust   LLR p-value:                2.302e-239\n",
      "==================================================================================\n",
      "                     coef    std err          z      P>|z|      [0.025      0.975]\n",
      "----------------------------------------------------------------------------------\n",
      "PLT               -0.4755      0.050     -9.564      0.000      -0.573      -0.378\n",
      "Hb                -0.1133      0.038     -3.015      0.003      -0.187      -0.040\n",
      "WBC                0.1059      0.081      1.303      0.193      -0.053       0.265\n",
      "Neut              -0.2788      0.071     -3.947      0.000      -0.417      -0.140\n",
      "Lymph             -0.1977      0.053     -3.749      0.000      -0.301      -0.094\n",
      "gender            -1.3411      0.085    -15.773      0.000      -1.508      -1.174\n",
      "tumor_stage_pN     0.2150      0.084      2.560      0.010       0.050       0.380\n",
      "cycle             -0.4045      0.023    -17.892      0.000      -0.449      -0.360\n",
      "const              4.6594      0.219     21.294      0.000       4.231       5.088\n",
      "==================================================================================\n"
     ]
    },
    {
     "name": "stderr",
     "output_type": "stream",
     "text": [
      "/var/folders/09/ybrtr66d0nn9kwdkvqxs98n00000gn/T/ipykernel_96395/1333492688.py:15: SettingWithCopyWarning: \n",
      "A value is trying to be set on a copy of a slice from a DataFrame.\n",
      "Try using .loc[row_indexer,col_indexer] = value instead\n",
      "\n",
      "See the caveats in the documentation: https://pandas.pydata.org/pandas-docs/stable/user_guide/indexing.html#returning-a-view-versus-a-copy\n",
      "  data_train_smo[\"predict\"]  = lr.predict(add_constant(data_train_smo[select_feature], prepend = False))\n"
     ]
    }
   ],
   "source": [
    "auc_result_list = list()\n",
    "for i in range(len(order_dynamic_feature_list), len(order_dynamic_feature_list)+1):\n",
    "    auc_result_dict = dict()\n",
    "    auc_result_dict[\"index\"] = i\n",
    "    select_dynamic_feature = order_dynamic_feature_list[:i]\n",
    "    select_feature = select_dynamic_feature + prior_feature_list\n",
    "    \n",
    "    lr = Logit(data_train_smo[\"event\"], add_constant(data_train_smo[select_feature], prepend = False)).fit_regularized(method = \"l1\")\n",
    "    print(lr.summary())\n",
    "    \n",
    "    # 训练集\n",
    "#     y_pre = lr.predict(add_constant(data_train_smo[select_feature], prepend = False))\n",
    "#     fpr, tpr, thresholds = roc_curve(data_train_smo[\"event\"], y_pre)\n",
    "#     auc_result_dict[\"data_train auc\"] = auc(fpr, tpr)\n",
    "#     data_train_smo[\"predict\"]  = lr.predict(add_constant(data_train_smo[select_feature], prepend = False))\n",
    "#     data_train_smo.to_csv(\"./output/log_model_on_smo_trainset_with_prediction_new.csv\", index=False)\n",
    "    \n",
    "    # 测试集\n",
    "    y_pre = lr.predict(add_constant(data_test_smo[select_feature], prepend = False))\n",
    "    fpr, tpr, thresholds = roc_curve(data_test_smo[\"event\"], y_pre)\n",
    "    auc_result_dict[\"data_test auc\"] = auc(fpr, tpr)\n",
    "    data_test_smo[\"predict\"]  = lr.predict(add_constant(data_test_smo[select_feature], prepend = False))\n",
    "#     data_test_smo.to_csv(\"./output/log_model_on_smo_testset_with_prediction_new.csv\", index=False)\n",
    "    auc_result_list.append(auc_result_dict)"
   ]
  },
  {
   "cell_type": "code",
   "execution_count": 39,
   "metadata": {},
   "outputs": [
    {
     "data": {
      "text/html": [
       "<div>\n",
       "<style scoped>\n",
       "    .dataframe tbody tr th:only-of-type {\n",
       "        vertical-align: middle;\n",
       "    }\n",
       "\n",
       "    .dataframe tbody tr th {\n",
       "        vertical-align: top;\n",
       "    }\n",
       "\n",
       "    .dataframe thead th {\n",
       "        text-align: right;\n",
       "    }\n",
       "</style>\n",
       "<table border=\"1\" class=\"dataframe\">\n",
       "  <thead>\n",
       "    <tr style=\"text-align: right;\">\n",
       "      <th></th>\n",
       "      <th>index</th>\n",
       "      <th>data_train auc</th>\n",
       "    </tr>\n",
       "  </thead>\n",
       "  <tbody>\n",
       "    <tr>\n",
       "      <th>0</th>\n",
       "      <td>5</td>\n",
       "      <td>0.795303</td>\n",
       "    </tr>\n",
       "  </tbody>\n",
       "</table>\n",
       "</div>"
      ],
      "text/plain": [
       "   index  data_train auc\n",
       "0      5        0.795303"
      ]
     },
     "execution_count": 39,
     "metadata": {},
     "output_type": "execute_result"
    }
   ],
   "source": [
    "pd.DataFrame(auc_result_list).sort_values(by = \"data_train auc\", ascending=False).head(10)"
   ]
  },
  {
   "cell_type": "code",
   "execution_count": 37,
   "metadata": {},
   "outputs": [
    {
     "data": {
      "text/html": [
       "<div>\n",
       "<style scoped>\n",
       "    .dataframe tbody tr th:only-of-type {\n",
       "        vertical-align: middle;\n",
       "    }\n",
       "\n",
       "    .dataframe tbody tr th {\n",
       "        vertical-align: top;\n",
       "    }\n",
       "\n",
       "    .dataframe thead th {\n",
       "        text-align: right;\n",
       "    }\n",
       "</style>\n",
       "<table border=\"1\" class=\"dataframe\">\n",
       "  <thead>\n",
       "    <tr style=\"text-align: right;\">\n",
       "      <th></th>\n",
       "      <th>index</th>\n",
       "      <th>data_test auc</th>\n",
       "    </tr>\n",
       "  </thead>\n",
       "  <tbody>\n",
       "    <tr>\n",
       "      <th>0</th>\n",
       "      <td>5</td>\n",
       "      <td>0.801093</td>\n",
       "    </tr>\n",
       "  </tbody>\n",
       "</table>\n",
       "</div>"
      ],
      "text/plain": [
       "   index  data_test auc\n",
       "0      5       0.801093"
      ]
     },
     "execution_count": 37,
     "metadata": {},
     "output_type": "execute_result"
    }
   ],
   "source": [
    "pd.DataFrame(auc_result_list).sort_values(by = \"data_test auc\", ascending=False).head(10)"
   ]
  },
  {
   "cell_type": "markdown",
   "metadata": {},
   "source": [
    "# logistic regression of same variables with Bayes (baseline)—raw data"
   ]
  },
  {
   "cell_type": "code",
   "execution_count": 47,
   "metadata": {},
   "outputs": [],
   "source": [
    "order_dynamic_feature_list= [\"PLT\", \"Hb\", \"WBC\", \"Neut\", \"Lymph\"]\n",
    "prior_feature_list = [\"gender\", \"tumor_stage_pN\", \"cycle\"]"
   ]
  },
  {
   "cell_type": "code",
   "execution_count": 48,
   "metadata": {},
   "outputs": [
    {
     "name": "stdout",
     "output_type": "stream",
     "text": [
      "Optimization terminated successfully    (Exit mode 0)\n",
      "            Current function value: 0.21008401274150418\n",
      "            Iterations: 59\n",
      "            Function evaluations: 61\n",
      "            Gradient evaluations: 59\n",
      "                           Logit Regression Results                           \n",
      "==============================================================================\n",
      "Dep. Variable:                  event   No. Observations:                 2057\n",
      "Model:                          Logit   Df Residuals:                     2048\n",
      "Method:                           MLE   Df Model:                            8\n",
      "Date:                Fri, 17 Jun 2022   Pseudo R-squ.:                 0.06656\n",
      "Time:                        18:34:06   Log-Likelihood:                -432.14\n",
      "converged:                       True   LL-Null:                       -462.96\n",
      "Covariance Type:            nonrobust   LLR p-value:                 2.233e-10\n",
      "==================================================================================\n",
      "                     coef    std err          z      P>|z|      [0.025      0.975]\n",
      "----------------------------------------------------------------------------------\n",
      "PLT               -0.1746      0.121     -1.447      0.148      -0.411       0.062\n",
      "Hb                 0.0014      0.095      0.015      0.988      -0.185       0.187\n",
      "WBC               -0.3792      0.200     -1.900      0.057      -0.770       0.012\n",
      "Neut               0.1696      0.174      0.977      0.329      -0.171       0.510\n",
      "Lymph              0.1560      0.134      1.165      0.244      -0.106       0.418\n",
      "gender            -0.7427      0.214     -3.466      0.001      -1.163      -0.323\n",
      "tumor_stage_pN     0.7121      0.248      2.873      0.004       0.226       1.198\n",
      "cycle             -0.2531      0.054     -4.646      0.000      -0.360      -0.146\n",
      "const             -1.2538      0.532     -2.356      0.018      -2.297      -0.211\n",
      "==================================================================================\n"
     ]
    },
    {
     "name": "stderr",
     "output_type": "stream",
     "text": [
      "/var/folders/09/ybrtr66d0nn9kwdkvqxs98n00000gn/T/ipykernel_96395/94055453.py:15: SettingWithCopyWarning: \n",
      "A value is trying to be set on a copy of a slice from a DataFrame.\n",
      "Try using .loc[row_indexer,col_indexer] = value instead\n",
      "\n",
      "See the caveats in the documentation: https://pandas.pydata.org/pandas-docs/stable/user_guide/indexing.html#returning-a-view-versus-a-copy\n",
      "  data_train[\"predict\"]  = lr.predict(add_constant(data_train[select_feature], prepend = False))\n"
     ]
    }
   ],
   "source": [
    "auc_result_list = list()\n",
    "for i in range(len(order_dynamic_feature_list), len(order_dynamic_feature_list)+1):\n",
    "    auc_result_dict = dict()\n",
    "    auc_result_dict[\"index\"] = i\n",
    "    select_dynamic_feature = order_dynamic_feature_list[:i]\n",
    "    select_feature = select_dynamic_feature + prior_feature_list\n",
    "    \n",
    "    lr = Logit(data_train[\"event\"], add_constant(data_train[select_feature], prepend = False)).fit_regularized(method = \"l1\")\n",
    "    print(lr.summary())\n",
    "    \n",
    "    # 训练集\n",
    "    y_pre = lr.predict(add_constant(data_train[select_feature], prepend = False))\n",
    "    fpr, tpr, thresholds = roc_curve(data_train[\"event\"], y_pre)\n",
    "    auc_result_dict[\"data_train auc\"] = auc(fpr, tpr)\n",
    "    data_train[\"predict\"]  = lr.predict(add_constant(data_train[select_feature], prepend = False))\n",
    "#     data_train.to_csv(\"./output/log_model_on_raw_trainset_with_prediction_new.csv\", index=False)  \n",
    "   \n",
    "    # 测试集\n",
    "#     y_pre = lr.predict(add_constant(data_test[select_feature], prepend = False))\n",
    "#     fpr, tpr, thresholds = roc_curve(data_test[\"event\"], y_pre)\n",
    "#     auc_result_dict[\"data_test auc\"] = auc(fpr, tpr)\n",
    "#     data_test[\"predict\"]  = lr.predict(add_constant(data_test[select_feature], prepend = False))\n",
    "#     data_test.to_csv(\"./output/log_model_on_raw_testset_with_prediction_new.csv\", index=False)\n",
    "    auc_result_list.append(auc_result_dict)"
   ]
  },
  {
   "cell_type": "code",
   "execution_count": 49,
   "metadata": {},
   "outputs": [
    {
     "data": {
      "text/html": [
       "<div>\n",
       "<style scoped>\n",
       "    .dataframe tbody tr th:only-of-type {\n",
       "        vertical-align: middle;\n",
       "    }\n",
       "\n",
       "    .dataframe tbody tr th {\n",
       "        vertical-align: top;\n",
       "    }\n",
       "\n",
       "    .dataframe thead th {\n",
       "        text-align: right;\n",
       "    }\n",
       "</style>\n",
       "<table border=\"1\" class=\"dataframe\">\n",
       "  <thead>\n",
       "    <tr style=\"text-align: right;\">\n",
       "      <th></th>\n",
       "      <th>index</th>\n",
       "      <th>data_train auc</th>\n",
       "    </tr>\n",
       "  </thead>\n",
       "  <tbody>\n",
       "    <tr>\n",
       "      <th>0</th>\n",
       "      <td>5</td>\n",
       "      <td>0.711217</td>\n",
       "    </tr>\n",
       "  </tbody>\n",
       "</table>\n",
       "</div>"
      ],
      "text/plain": [
       "   index  data_train auc\n",
       "0      5        0.711217"
      ]
     },
     "execution_count": 49,
     "metadata": {},
     "output_type": "execute_result"
    }
   ],
   "source": [
    "pd.DataFrame(auc_result_list).sort_values(by = \"data_train auc\", ascending=False).head(10)"
   ]
  },
  {
   "cell_type": "code",
   "execution_count": 46,
   "metadata": {},
   "outputs": [
    {
     "data": {
      "text/html": [
       "<div>\n",
       "<style scoped>\n",
       "    .dataframe tbody tr th:only-of-type {\n",
       "        vertical-align: middle;\n",
       "    }\n",
       "\n",
       "    .dataframe tbody tr th {\n",
       "        vertical-align: top;\n",
       "    }\n",
       "\n",
       "    .dataframe thead th {\n",
       "        text-align: right;\n",
       "    }\n",
       "</style>\n",
       "<table border=\"1\" class=\"dataframe\">\n",
       "  <thead>\n",
       "    <tr style=\"text-align: right;\">\n",
       "      <th></th>\n",
       "      <th>index</th>\n",
       "      <th>data_test auc</th>\n",
       "    </tr>\n",
       "  </thead>\n",
       "  <tbody>\n",
       "    <tr>\n",
       "      <th>0</th>\n",
       "      <td>5</td>\n",
       "      <td>0.583122</td>\n",
       "    </tr>\n",
       "  </tbody>\n",
       "</table>\n",
       "</div>"
      ],
      "text/plain": [
       "   index  data_test auc\n",
       "0      5       0.583122"
      ]
     },
     "execution_count": 46,
     "metadata": {},
     "output_type": "execute_result"
    }
   ],
   "source": [
    "pd.DataFrame(auc_result_list).sort_values(by = \"data_test auc\", ascending=False).head(10)"
   ]
  },
  {
   "cell_type": "code",
   "execution_count": null,
   "metadata": {},
   "outputs": [],
   "source": []
  },
  {
   "cell_type": "code",
   "execution_count": null,
   "metadata": {},
   "outputs": [],
   "source": []
  }
 ],
 "metadata": {
  "kernelspec": {
   "display_name": "Python 3 (ipykernel)",
   "language": "python",
   "name": "python3"
  },
  "language_info": {
   "codemirror_mode": {
    "name": "ipython",
    "version": 3
   },
   "file_extension": ".py",
   "mimetype": "text/x-python",
   "name": "python",
   "nbconvert_exporter": "python",
   "pygments_lexer": "ipython3",
   "version": "3.9.12"
  },
  "toc": {
   "base_numbering": 1,
   "nav_menu": {},
   "number_sections": true,
   "sideBar": true,
   "skip_h1_title": false,
   "title_cell": "Table of Contents",
   "title_sidebar": "Contents",
   "toc_cell": false,
   "toc_position": {
    "height": "calc(100% - 180px)",
    "left": "10px",
    "top": "150px",
    "width": "250px"
   },
   "toc_section_display": true,
   "toc_window_display": true
  }
 },
 "nbformat": 4,
 "nbformat_minor": 4
}
