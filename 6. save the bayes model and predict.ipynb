{
 "cells": [
  {
   "cell_type": "code",
   "execution_count": null,
   "metadata": {},
   "outputs": [],
   "source": [
    "pip install dill"
   ]
  },
  {
   "cell_type": "code",
   "execution_count": 15,
   "metadata": {},
   "outputs": [],
   "source": [
    "import pandas as pd\n",
    "import numpy as np\n",
    "import matplotlib.pyplot as plt\n",
    "import joblib\n",
    "import dill as pickle\n",
    "\n",
    "from matplotlib.gridspec import GridSpec\n",
    "from sklearn.calibration import CalibratedClassifierCV, CalibrationDisplay\n",
    "from sklearn.naive_bayes import BernoulliNB\n",
    "from sklearn.naive_bayes import GaussianNB\n",
    "from sklearn.naive_bayes import CategoricalNB\n",
    "from sklearn.naive_bayes import MultinomialNB\n",
    "\n",
    "from sklearn.metrics import roc_curve\n",
    "from sklearn.metrics import auc\n",
    "\n",
    "from statsmodels.discrete.discrete_model import Logit\n",
    "from statsmodels.tools import add_constant\n",
    "\n",
    "from imblearn.over_sampling import SMOTE\n",
    "from collections import Counter"
   ]
  },
  {
   "cell_type": "code",
   "execution_count": 2,
   "metadata": {},
   "outputs": [],
   "source": [
    "data = pd.read_csv(\"/Users/weiyuna/Desktop/工作/合作项目/医大一-胃癌/模型/code_202203/smote/smote_data.csv\")\n",
    "data_train_smo = data[data.target == \"train\"]\n",
    "data_train_smo.reset_index(inplace = True)"
   ]
  },
  {
   "cell_type": "code",
   "execution_count": 3,
   "metadata": {},
   "outputs": [],
   "source": [
    "def predict_by_model_final(df, is_enable_trend=False):\n",
    "    data_train_smo = data[data.target == \"train\"]\n",
    "    data_train_smo.reset_index(inplace = True)\n",
    "    \n",
    "    prior_feature_list = [\"gender\", \"tumor_stage_pN\", \"cycle\"]\n",
    "    clf_prior = CategoricalNB()\n",
    "    \n",
    "    clf_prior_isotonic = CalibratedClassifierCV(clf_prior, cv=2, method=\"isotonic\")\n",
    "    clf_prior_isotonic_fit = clf_prior_isotonic.fit(data_train_smo[prior_feature_list], data_train_smo[\"event\"])\n",
    "    \n",
    "    df[\"prior\"] = clf_prior_isotonic.predict_proba(df[prior_feature_list])[:,1]\n",
    "    df[\"prior_odds\"] = df[\"prior\"]/(1 - df[\"prior\"])\n",
    "\n",
    "\n",
    "    quartile_list = [\"PLT_q\", \"Hb_q\", \"WBC_q\", \"Neut_q\", \"Lymph_q\"]\n",
    "    clf_quartile = GaussianNB(priors = [0.5, 0.5]) \n",
    "    \n",
    "    clf_quartile_isotonic = CalibratedClassifierCV(clf_quartile, cv=2, method=\"isotonic\")\n",
    "    clf_quartile_isotonic_fit = clf_quartile_isotonic.fit(data_train_smo[quartile_list], data_train_smo[\"event\"])\n",
    "    \n",
    "    quartile_pre = clf_quartile_isotonic_fit.predict_proba(df[quartile_list])[:,1]\n",
    "    df[\"quartile_odds\"] = quartile_pre/(1- quartile_pre)\n",
    "    \n",
    "    df[\"posterior_odds\"] = df[\"quartile_odds\"]*df[\"prior_odds\"]\n",
    "    df[\"posterior\"] = df[\"posterior_odds\"]/(1+df[\"posterior_odds\"])  \n",
    "    return df"
   ]
  },
  {
   "cell_type": "code",
   "execution_count": 12,
   "metadata": {},
   "outputs": [],
   "source": [
    "import dill as pickle"
   ]
  },
  {
   "cell_type": "code",
   "execution_count": 17,
   "metadata": {},
   "outputs": [],
   "source": [
    "# save the model\n",
    "f_save = open('./final_model.pkl', 'wb')\n",
    "pickle.dump(predict_by_model_final, f_save,protocol=2) ##protocol=2:python2版本\n",
    "f_save.close()"
   ]
  },
  {
   "cell_type": "code",
   "execution_count": 18,
   "metadata": {},
   "outputs": [],
   "source": [
    "# reload the model\n",
    "with open('./final_model.pkl', 'rb') as f:\n",
    "    predict = pickle.load(f)"
   ]
  },
  {
   "cell_type": "code",
   "execution_count": 19,
   "metadata": {},
   "outputs": [
    {
     "name": "stderr",
     "output_type": "stream",
     "text": [
      "/var/folders/09/ybrtr66d0nn9kwdkvqxs98n00000gn/T/ipykernel_13915/3188277971.py:11: SettingWithCopyWarning: \n",
      "A value is trying to be set on a copy of a slice from a DataFrame.\n",
      "Try using .loc[row_indexer,col_indexer] = value instead\n",
      "\n",
      "See the caveats in the documentation: https://pandas.pydata.org/pandas-docs/stable/user_guide/indexing.html#returning-a-view-versus-a-copy\n",
      "  df[\"prior\"] = clf_prior_isotonic.predict_proba(df[prior_feature_list])[:,1]\n",
      "/var/folders/09/ybrtr66d0nn9kwdkvqxs98n00000gn/T/ipykernel_13915/3188277971.py:12: SettingWithCopyWarning: \n",
      "A value is trying to be set on a copy of a slice from a DataFrame.\n",
      "Try using .loc[row_indexer,col_indexer] = value instead\n",
      "\n",
      "See the caveats in the documentation: https://pandas.pydata.org/pandas-docs/stable/user_guide/indexing.html#returning-a-view-versus-a-copy\n",
      "  df[\"prior_odds\"] = df[\"prior\"]/(1 - df[\"prior\"])\n",
      "/var/folders/09/ybrtr66d0nn9kwdkvqxs98n00000gn/T/ipykernel_13915/3188277971.py:22: SettingWithCopyWarning: \n",
      "A value is trying to be set on a copy of a slice from a DataFrame.\n",
      "Try using .loc[row_indexer,col_indexer] = value instead\n",
      "\n",
      "See the caveats in the documentation: https://pandas.pydata.org/pandas-docs/stable/user_guide/indexing.html#returning-a-view-versus-a-copy\n",
      "  df[\"quartile_odds\"] = quartile_pre/(1- quartile_pre)\n",
      "/var/folders/09/ybrtr66d0nn9kwdkvqxs98n00000gn/T/ipykernel_13915/3188277971.py:24: SettingWithCopyWarning: \n",
      "A value is trying to be set on a copy of a slice from a DataFrame.\n",
      "Try using .loc[row_indexer,col_indexer] = value instead\n",
      "\n",
      "See the caveats in the documentation: https://pandas.pydata.org/pandas-docs/stable/user_guide/indexing.html#returning-a-view-versus-a-copy\n",
      "  df[\"posterior_odds\"] = df[\"quartile_odds\"]*df[\"prior_odds\"]\n",
      "/var/folders/09/ybrtr66d0nn9kwdkvqxs98n00000gn/T/ipykernel_13915/3188277971.py:25: SettingWithCopyWarning: \n",
      "A value is trying to be set on a copy of a slice from a DataFrame.\n",
      "Try using .loc[row_indexer,col_indexer] = value instead\n",
      "\n",
      "See the caveats in the documentation: https://pandas.pydata.org/pandas-docs/stable/user_guide/indexing.html#returning-a-view-versus-a-copy\n",
      "  df[\"posterior\"] = df[\"posterior_odds\"]/(1+df[\"posterior_odds\"])\n"
     ]
    },
    {
     "data": {
      "text/plain": [
       "1    0.308413\n",
       "Name: posterior, dtype: float64"
      ]
     },
     "execution_count": 19,
     "metadata": {},
     "output_type": "execute_result"
    }
   ],
   "source": [
    "data = pd.read_csv(\"/Users/weiyuna/Desktop/工作/合作项目/医大一-胃癌/模型/code_202203/smote/smote_data.csv\")\n",
    "data_test_smo = data[data.target == \"test\"]\n",
    "data_test_smo.reset_index(inplace = True)\n",
    "\n",
    "# choose a row of data from the test set\n",
    "data_test_smo_t1 = data_test_smo[1:2]\n",
    "\n",
    "# output prediction probability\n",
    "predict(data_test_smo_t1)[\"posterior\"]"
   ]
  },
  {
   "cell_type": "code",
   "execution_count": null,
   "metadata": {},
   "outputs": [],
   "source": []
  }
 ],
 "metadata": {
  "kernelspec": {
   "display_name": "Python 3 (ipykernel)",
   "language": "python",
   "name": "python3"
  },
  "language_info": {
   "codemirror_mode": {
    "name": "ipython",
    "version": 3
   },
   "file_extension": ".py",
   "mimetype": "text/x-python",
   "name": "python",
   "nbconvert_exporter": "python",
   "pygments_lexer": "ipython3",
   "version": "3.9.12"
  },
  "toc": {
   "base_numbering": 1,
   "nav_menu": {},
   "number_sections": true,
   "sideBar": true,
   "skip_h1_title": false,
   "title_cell": "Table of Contents",
   "title_sidebar": "Contents",
   "toc_cell": false,
   "toc_position": {},
   "toc_section_display": true,
   "toc_window_display": false
  }
 },
 "nbformat": 4,
 "nbformat_minor": 4
}
